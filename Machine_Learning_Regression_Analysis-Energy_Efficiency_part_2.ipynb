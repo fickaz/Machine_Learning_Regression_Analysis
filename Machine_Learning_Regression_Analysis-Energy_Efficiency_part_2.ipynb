{
 "cells": [
  {
   "cell_type": "code",
   "execution_count": 18,
   "metadata": {
    "collapsed": true
   },
   "outputs": [],
   "source": [
    "import pandas as pd\n",
    "import numpy as np\n",
    "import random\n",
    "import matplotlib.pyplot as plt\n",
    "from pylab import *\n",
    "\n",
    "%matplotlib inline\n",
    "\n",
    "from pandas import DataFrame"
   ]
  },
  {
   "cell_type": "code",
   "execution_count": 19,
   "metadata": {
    "collapsed": true
   },
   "outputs": [],
   "source": [
    "from sklearn import linear_model, cross_validation\n",
    "from math import sqrt"
   ]
  },
  {
   "cell_type": "code",
   "execution_count": 25,
   "metadata": {
    "collapsed": true
   },
   "outputs": [],
   "source": [
    "df = pd.read_csv(\"energy_efficiency.csv\")\n",
    "col=[10,11]\n",
    "df.drop(df.columns[col], axis=1, inplace=True)\n",
    "df.dropna(how=\"all\", inplace=True)\n",
    "\n",
    "yCols = [8,9]\n",
    "\n",
    "X = df.drop([\"Y1\", \"Y2\"], axis=1)\n",
    "X = np.array(X)\n",
    "\n",
    "y = df[[\"Y1\", \"Y2\"]]\n",
    "y = np.array(y)\n",
    "\n",
    "X_train, X_test, y_train, y_test = cross_validation.train_test_split(X,y,test_size=0.1)"
   ]
  },
  {
   "cell_type": "code",
   "execution_count": 42,
   "metadata": {
    "collapsed": false
   },
   "outputs": [
    {
     "name": "stdout",
     "output_type": "stream",
     "text": [
      "768 8\n"
     ]
    }
   ],
   "source": [
    "#Least-Angle-Regression (LARS)\n",
    "\n",
    "#normalization\n",
    "\n",
    "nrows = len(X)\n",
    "ncols = len(X[0])\n",
    "\n",
    "xMeans = []\n",
    "xStd = []\n",
    "for i in range(ncols):\n",
    "    col = [X[j][i] for j in range(nrows)]\n",
    "    mean = sum(col)/nrows\n",
    "    xMeans.append(mean)\n",
    "    colDiff = [(X[j][i] - mean) for j in range(nrows)]\n",
    "    sumSq = sum([colDiff[i] * colDiff[i] for i in range(nrows)])\n",
    "    stdDev = sqrt(sumSq/nrows)\n",
    "    xStd.append(stdDev)\n",
    "    \n",
    "xNormalized = []\n",
    "for i in range(nrows):\n",
    "    rowNormalized = [(X[i][j] - xMeans[j] ) /xStd[j] for j in range(ncols)]\n",
    "    xNormalized.append(rowNormalized)\n",
    "    \n",
    "ycols=len(y[0])\n",
    "yMeans = []\n",
    "yStd = []\n",
    "\n",
    "for i in range(ycols):\n",
    "    col = [y[j][i] for j in range(nrows)]\n",
    "    mean = sum(col)/nrows\n",
    "    yMeans.append(mean)\n",
    "    colDiff = [(y[j][i] - mean) for j in range(nrows)]\n",
    "    sumSq = sum([colDiff[i] * colDiff[i] for i in range(nrows)])\n",
    "    stdDev = sqrt(sumSq/nrows)\n",
    "    yStd.append(stdDev)\n",
    "    \n",
    "\n",
    "# yMeans = sum(y)/nrows\n",
    "# yStd = sqrt(sum([(y[i] - yMean)*(y[i] - yMean) for i in range(nrows)])/nrows)\n",
    "\n",
    "yNormalized = []\n",
    "for i in range(nrows):\n",
    "    rowNormalized  = [(y[i][j] - yMeans[j])/ yStd[j] for j in range(ycols)]\n",
    "    yNormalized.append(rowNormalized)   \n",
    "    \n",
    "print(nrows, ncols)\n",
    "\n"
   ]
  },
  {
   "cell_type": "code",
   "execution_count": 53,
   "metadata": {
    "collapsed": false
   },
   "outputs": [],
   "source": [
    "#beta = coefficient that minimizes the error of the linear regression\n",
    "\n",
    "beta = [0.0] * ncols\n",
    "betaMat = []\n",
    "betaMat.append(list(beta))\n",
    "\n",
    "nSteps = 500\n",
    "stepSize = 0.004\n",
    "\n",
    "for i in range(nSteps):\n",
    "    residuals = [0.0] * nrows\n",
    "    \n",
    "    for j in range(nrows):\n",
    "        yHat = sum([xNormalized[j][k] * beta[k] for k in range(ncols)])\n",
    "        residuals[j] = yNormalized[j] - yHat\n",
    "        \n",
    "    #correlation\n",
    "    corr = [0.0] * ncols\n",
    "    for j in range(ncols):\n",
    "        corr[j] = sum([xNormalized[k][j] * residuals[k] for k in range(nrows)]) / nrows\n",
    "        \n",
    "    iStar = 0\n",
    "    corrStar = corr[0]\n",
    "    \n",
    "    for j in range(1, (ncols)):\n",
    "        if abs(corrStar) < abs(corr[j]):\n",
    "            iStar = j\n",
    "            corrStar = corr[j]\n",
    "            \n",
    "    beta[iStar] += stepSize * corrStar / abs(corrStar)\n",
    "    betaMat.append(list(beta))"
   ]
  },
  {
   "cell_type": "code",
   "execution_count": 52,
   "metadata": {
    "collapsed": false
   },
   "outputs": [
    {
     "name": "stderr",
     "output_type": "stream",
     "text": [
      "C:\\Users\\mdtar001\\Anaconda3\\lib\\site-packages\\matplotlib\\axes\\_axes.py:519: UserWarning: No labelled objects found. Use label='...' kwarg on individual plots.\n",
      "  warnings.warn(\"No labelled objects found. \"\n"
     ]
    },
    {
     "data": {
      "image/png": "[encoded data removed]",
      "text/plain": [
       "<matplotlib.figure.Figure at 0x1ea3df5dda0>"
      ]
     },
     "metadata": {},
     "output_type": "display_data"
    }
   ],
   "source": [
    "#plot range of beta values for each attribute\n",
    "for i in range(ncols):\n",
    "    coefCurve = [betaMat[k][i] for k in range(nSteps)]\n",
    "    xaxis = range(nSteps)\n",
    "    plt.plot(xaxis, coefCurve)\n",
    "\n",
    "plt.xlabel(\"Steps Taken\")\n",
    "plt.ylabel(\"Coefficient Values\")\n",
    "\n",
    "plt.legend() #I need to put legend\n",
    "    \n",
    "    "
   ]
  },
  {
   "cell_type": "code",
   "execution_count": 86,
   "metadata": {
    "collapsed": false
   },
   "outputs": [],
   "source": [
    "#Ten-fold-CV, determining best set of coefficients on LARS algorithm\n",
    "\n",
    "nxval = 10 #number of cv-folds\n",
    "\n",
    "errors = []\n",
    "for i in range(nSteps):\n",
    "    b = []\n",
    "    errors.append(b)\n",
    "    \n",
    "for ixval in range(nxval):\n",
    "    idxTest = [a for a in range(nrows) if a%nxval == ixval*nxval]\n",
    "    idxTrain = [a for a in range(nrows) if a%nxval != ixval*nxval]\n",
    "\n",
    "    xTrain = [xNormalized[i] for i in idxTrain]\n",
    "    xTest = [xNormalized[i] for i in idxTest]\n",
    "    yTrain = [yNormalized[i] for i in idxTrain]\n",
    "    yTest = [yNormalized[i] for i in idxTest]\n",
    "\n",
    "    nrowsTrain = len(idxTrain)\n",
    "    nrowsTest = len(idxTest)\n",
    "\n",
    "    beta = [0.0] * ncols\n",
    "    #initialize matrix of betas at each step\n",
    "    betaMat = []\n",
    "    betaMat.append(list(beta))\n",
    "\n",
    "    for iStep in range(nSteps):\n",
    "        #calculate residuals\n",
    "        residuals = [0.0] * nrows\n",
    "\n",
    "        for j in range(nrowsTrain):\n",
    "            yHat = sum([xTrain[j][k] * beta[k] for k in range(ncols)])\n",
    "            residuals[j] = yTrain[j] - yHat\n",
    "\n",
    "        #correlation in between attribute\n",
    "        corr = [0.0] * ncols\n",
    "\n",
    "        for j in range(ncols):\n",
    "            corr[j] = sum([xTrain[k][j] * residuals[k] for k in range(nrowsTrain)]) / nrowsTrain\n",
    "\n",
    "        iStar = 0\n",
    "        corrStar = corr[0]\n",
    "        \n",
    "        for j in range(1, (ncols)):\n",
    "            if abs(corrStar) < abs(corr[j]):\n",
    "                iStar = j\n",
    "                corrStar = corr[j]\n",
    "\n",
    "        beta[iStar] += stepSize * corrStar / abs(corrStar)\n",
    "        betaMat.append(list(beta))\n",
    "    \n",
    "        #use beta to determine out of sample error\n",
    "        for j in range(nrowsTest):\n",
    "            yHat = sum([xTest[j][k] * beta[k] for k in range(ncols)])\n",
    "            err = yTest[j] - yHat\n",
    "            errors[iStep].append(err)    "
   ]
  },
  {
   "cell_type": "code",
   "execution_count": 87,
   "metadata": {
    "collapsed": false
   },
   "outputs": [
    {
     "name": "stdout",
     "output_type": "stream",
     "text": [
      "Minimum Mean Square Error 0.233770529788\n",
      "Index of Minimum Mean Square Error 493\n"
     ]
    }
   ],
   "source": [
    "cvCurve =  []\n",
    "for errVector in errors:\n",
    "    mse = sum([x*x for x in errVector])/len(errVector)\n",
    "    cvCurve.append(mse)\n",
    "    \n",
    "minMse = min(cvCurve)\n",
    "minPt = [i for i in range(len(cvCurve)) if cvCurve[i] == minMse][0]\n",
    "\n",
    "print(\"Minimum Mean Square Error\", minMse)\n",
    "print(\"Index of Minimum Mean Square Error\", minPt)   \n"
   ]
  },
  {
   "cell_type": "code",
   "execution_count": 89,
   "metadata": {
    "collapsed": false
   },
   "outputs": [
    {
     "data": {
      "text/plain": [
       "<matplotlib.text.Text at 0x1ea40a59780>"
      ]
     },
     "execution_count": 89,
     "metadata": {},
     "output_type": "execute_result"
    },
    {
     "data": {
      "image/png": "[encoded data removed]",
      "text/plain": [
       "<matplotlib.figure.Figure at 0x1ea40a37da0>"
      ]
     },
     "metadata": {},
     "output_type": "display_data"
    }
   ],
   "source": [
    "xaxis = range(len(cvCurve))\n",
    "plt.plot(xaxis, cvCurve)\n",
    "\n",
    "plt.xlabel(\"Steps Taken\")\n",
    "plt.ylabel((\"Mean Square Error\"))"
   ]
  },
  {
   "cell_type": "code",
   "execution_count": null,
   "metadata": {
    "collapsed": true
   },
   "outputs": [],
   "source": []
  }
 ],
 "metadata": {
  "kernelspec": {
   "display_name": "Python 3",
   "language": "python",
   "name": "python3"
  },
  "language_info": {
   "codemirror_mode": {
    "name": "ipython",
    "version": 3
   },
   "file_extension": ".py",
   "mimetype": "text/x-python",
   "name": "python",
   "nbconvert_exporter": "python",
   "pygments_lexer": "ipython3",
   "version": "3.5.1"
  }
 },
 "nbformat": 4,
 "nbformat_minor": 0
}
