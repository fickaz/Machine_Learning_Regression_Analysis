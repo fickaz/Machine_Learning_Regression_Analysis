{
 "cells": [
  {
   "cell_type": "code",
   "execution_count": 41,
   "metadata": {
    "collapsed": true
   },
   "outputs": [],
   "source": [
    "import pandas as pd\n",
    "import numpy as np\n",
    "import random\n",
    "import matplotlib.pyplot as plt\n",
    "from pylab import *\n",
    "\n",
    "%matplotlib inline\n",
    "\n",
    "from pandas import DataFrame"
   ]
  },
  {
   "cell_type": "code",
   "execution_count": 55,
   "metadata": {
    "collapsed": false
   },
   "outputs": [],
   "source": [
    "from sklearn import linear_model, cross_validation\n",
    "from math import sqrt"
   ]
  },
  {
   "cell_type": "code",
   "execution_count": 18,
   "metadata": {
    "collapsed": false
   },
   "outputs": [
    {
     "data": {
      "text/html": [
       "<div>\n",
       "<table border=\"1\" class=\"dataframe\">\n",
       "  <thead>\n",
       "    <tr style=\"text-align: right;\">\n",
       "      <th></th>\n",
       "      <th>X1</th>\n",
       "      <th>X2</th>\n",
       "      <th>X3</th>\n",
       "      <th>X4</th>\n",
       "      <th>X5</th>\n",
       "      <th>X6</th>\n",
       "      <th>X7</th>\n",
       "      <th>X8</th>\n",
       "      <th>Y1</th>\n",
       "      <th>Y2</th>\n",
       "      <th>Unnamed: 10</th>\n",
       "      <th>Unnamed: 11</th>\n",
       "    </tr>\n",
       "  </thead>\n",
       "  <tbody>\n",
       "    <tr>\n",
       "      <th>count</th>\n",
       "      <td>768.000000</td>\n",
       "      <td>768.000000</td>\n",
       "      <td>768.000000</td>\n",
       "      <td>768.000000</td>\n",
       "      <td>768.00000</td>\n",
       "      <td>768.000000</td>\n",
       "      <td>768.000000</td>\n",
       "      <td>768.00000</td>\n",
       "      <td>768.000000</td>\n",
       "      <td>768.000000</td>\n",
       "      <td>0.0</td>\n",
       "      <td>0.0</td>\n",
       "    </tr>\n",
       "    <tr>\n",
       "      <th>mean</th>\n",
       "      <td>0.764167</td>\n",
       "      <td>671.708333</td>\n",
       "      <td>318.500000</td>\n",
       "      <td>176.604167</td>\n",
       "      <td>5.25000</td>\n",
       "      <td>3.500000</td>\n",
       "      <td>0.234375</td>\n",
       "      <td>2.81250</td>\n",
       "      <td>22.307201</td>\n",
       "      <td>24.587760</td>\n",
       "      <td>NaN</td>\n",
       "      <td>NaN</td>\n",
       "    </tr>\n",
       "    <tr>\n",
       "      <th>std</th>\n",
       "      <td>0.105777</td>\n",
       "      <td>88.086116</td>\n",
       "      <td>43.626481</td>\n",
       "      <td>45.165950</td>\n",
       "      <td>1.75114</td>\n",
       "      <td>1.118763</td>\n",
       "      <td>0.133221</td>\n",
       "      <td>1.55096</td>\n",
       "      <td>10.090196</td>\n",
       "      <td>9.513306</td>\n",
       "      <td>NaN</td>\n",
       "      <td>NaN</td>\n",
       "    </tr>\n",
       "    <tr>\n",
       "      <th>min</th>\n",
       "      <td>0.620000</td>\n",
       "      <td>514.500000</td>\n",
       "      <td>245.000000</td>\n",
       "      <td>110.250000</td>\n",
       "      <td>3.50000</td>\n",
       "      <td>2.000000</td>\n",
       "      <td>0.000000</td>\n",
       "      <td>0.00000</td>\n",
       "      <td>6.010000</td>\n",
       "      <td>10.900000</td>\n",
       "      <td>NaN</td>\n",
       "      <td>NaN</td>\n",
       "    </tr>\n",
       "    <tr>\n",
       "      <th>25%</th>\n",
       "      <td>0.682500</td>\n",
       "      <td>606.375000</td>\n",
       "      <td>294.000000</td>\n",
       "      <td>140.875000</td>\n",
       "      <td>3.50000</td>\n",
       "      <td>2.750000</td>\n",
       "      <td>0.100000</td>\n",
       "      <td>1.75000</td>\n",
       "      <td>12.992500</td>\n",
       "      <td>15.620000</td>\n",
       "      <td>NaN</td>\n",
       "      <td>NaN</td>\n",
       "    </tr>\n",
       "    <tr>\n",
       "      <th>50%</th>\n",
       "      <td>0.750000</td>\n",
       "      <td>673.750000</td>\n",
       "      <td>318.500000</td>\n",
       "      <td>183.750000</td>\n",
       "      <td>5.25000</td>\n",
       "      <td>3.500000</td>\n",
       "      <td>0.250000</td>\n",
       "      <td>3.00000</td>\n",
       "      <td>18.950000</td>\n",
       "      <td>22.080000</td>\n",
       "      <td>NaN</td>\n",
       "      <td>NaN</td>\n",
       "    </tr>\n",
       "    <tr>\n",
       "      <th>75%</th>\n",
       "      <td>0.830000</td>\n",
       "      <td>741.125000</td>\n",
       "      <td>343.000000</td>\n",
       "      <td>220.500000</td>\n",
       "      <td>7.00000</td>\n",
       "      <td>4.250000</td>\n",
       "      <td>0.400000</td>\n",
       "      <td>4.00000</td>\n",
       "      <td>31.667500</td>\n",
       "      <td>33.132500</td>\n",
       "      <td>NaN</td>\n",
       "      <td>NaN</td>\n",
       "    </tr>\n",
       "    <tr>\n",
       "      <th>max</th>\n",
       "      <td>0.980000</td>\n",
       "      <td>808.500000</td>\n",
       "      <td>416.500000</td>\n",
       "      <td>220.500000</td>\n",
       "      <td>7.00000</td>\n",
       "      <td>5.000000</td>\n",
       "      <td>0.400000</td>\n",
       "      <td>5.00000</td>\n",
       "      <td>43.100000</td>\n",
       "      <td>48.030000</td>\n",
       "      <td>NaN</td>\n",
       "      <td>NaN</td>\n",
       "    </tr>\n",
       "  </tbody>\n",
       "</table>\n",
       "</div>"
      ],
      "text/plain": [
       "               X1          X2          X3          X4         X5          X6  \\\n",
       "count  768.000000  768.000000  768.000000  768.000000  768.00000  768.000000   \n",
       "mean     0.764167  671.708333  318.500000  176.604167    5.25000    3.500000   \n",
       "std      0.105777   88.086116   43.626481   45.165950    1.75114    1.118763   \n",
       "min      0.620000  514.500000  245.000000  110.250000    3.50000    2.000000   \n",
       "25%      0.682500  606.375000  294.000000  140.875000    3.50000    2.750000   \n",
       "50%      0.750000  673.750000  318.500000  183.750000    5.25000    3.500000   \n",
       "75%      0.830000  741.125000  343.000000  220.500000    7.00000    4.250000   \n",
       "max      0.980000  808.500000  416.500000  220.500000    7.00000    5.000000   \n",
       "\n",
       "               X7         X8          Y1          Y2  Unnamed: 10  Unnamed: 11  \n",
       "count  768.000000  768.00000  768.000000  768.000000          0.0          0.0  \n",
       "mean     0.234375    2.81250   22.307201   24.587760          NaN          NaN  \n",
       "std      0.133221    1.55096   10.090196    9.513306          NaN          NaN  \n",
       "min      0.000000    0.00000    6.010000   10.900000          NaN          NaN  \n",
       "25%      0.100000    1.75000   12.992500   15.620000          NaN          NaN  \n",
       "50%      0.250000    3.00000   18.950000   22.080000          NaN          NaN  \n",
       "75%      0.400000    4.00000   31.667500   33.132500          NaN          NaN  \n",
       "max      0.400000    5.00000   43.100000   48.030000          NaN          NaN  "
      ]
     },
     "execution_count": 18,
     "metadata": {},
     "output_type": "execute_result"
    }
   ],
   "source": [
    "df = pd.read_csv(\"energy_efficiency.csv\")\n",
    "df.head()\n",
    "df.tail()\n",
    "df.describe()\n",
    "\n",
    "#X1=Relative Compactness \n",
    "#X2=Surface Area \n",
    "#X3=Wall Area \n",
    "#X4=Roof Area \n",
    "#X5=Overall Height \n",
    "#X6=Orientation \n",
    "#X7=Glazing Area \n",
    "#X8=Glazing Area Distribution \n",
    "\n",
    "#y1=Heating Load \n",
    "#y2=Cooling Load"
   ]
  },
  {
   "cell_type": "code",
   "execution_count": 20,
   "metadata": {
    "collapsed": false
   },
   "outputs": [],
   "source": [
    "col=[10,11]\n",
    "df.drop(df.columns[col], axis=1, inplace=True)\n",
    "df.head()\n",
    "df.dropna(how=\"all\", inplace=True)\n",
    "\n",
    "#We can see clearly X1-8 are attributes and Y1-2 are labels"
   ]
  },
  {
   "cell_type": "code",
   "execution_count": 21,
   "metadata": {
    "collapsed": false
   },
   "outputs": [
    {
     "data": {
      "text/html": [
       "<div>\n",
       "<table border=\"1\" class=\"dataframe\">\n",
       "  <thead>\n",
       "    <tr style=\"text-align: right;\">\n",
       "      <th></th>\n",
       "      <th>X1</th>\n",
       "      <th>X2</th>\n",
       "      <th>X3</th>\n",
       "      <th>X4</th>\n",
       "      <th>X5</th>\n",
       "      <th>X6</th>\n",
       "      <th>X7</th>\n",
       "      <th>X8</th>\n",
       "      <th>Y1</th>\n",
       "      <th>Y2</th>\n",
       "    </tr>\n",
       "  </thead>\n",
       "  <tbody>\n",
       "    <tr>\n",
       "      <th>count</th>\n",
       "      <td>768.000000</td>\n",
       "      <td>768.000000</td>\n",
       "      <td>768.000000</td>\n",
       "      <td>768.000000</td>\n",
       "      <td>768.00000</td>\n",
       "      <td>768.000000</td>\n",
       "      <td>768.000000</td>\n",
       "      <td>768.00000</td>\n",
       "      <td>768.000000</td>\n",
       "      <td>768.000000</td>\n",
       "    </tr>\n",
       "    <tr>\n",
       "      <th>mean</th>\n",
       "      <td>0.764167</td>\n",
       "      <td>671.708333</td>\n",
       "      <td>318.500000</td>\n",
       "      <td>176.604167</td>\n",
       "      <td>5.25000</td>\n",
       "      <td>3.500000</td>\n",
       "      <td>0.234375</td>\n",
       "      <td>2.81250</td>\n",
       "      <td>22.307201</td>\n",
       "      <td>24.587760</td>\n",
       "    </tr>\n",
       "    <tr>\n",
       "      <th>std</th>\n",
       "      <td>0.105777</td>\n",
       "      <td>88.086116</td>\n",
       "      <td>43.626481</td>\n",
       "      <td>45.165950</td>\n",
       "      <td>1.75114</td>\n",
       "      <td>1.118763</td>\n",
       "      <td>0.133221</td>\n",
       "      <td>1.55096</td>\n",
       "      <td>10.090196</td>\n",
       "      <td>9.513306</td>\n",
       "    </tr>\n",
       "    <tr>\n",
       "      <th>min</th>\n",
       "      <td>0.620000</td>\n",
       "      <td>514.500000</td>\n",
       "      <td>245.000000</td>\n",
       "      <td>110.250000</td>\n",
       "      <td>3.50000</td>\n",
       "      <td>2.000000</td>\n",
       "      <td>0.000000</td>\n",
       "      <td>0.00000</td>\n",
       "      <td>6.010000</td>\n",
       "      <td>10.900000</td>\n",
       "    </tr>\n",
       "    <tr>\n",
       "      <th>25%</th>\n",
       "      <td>0.682500</td>\n",
       "      <td>606.375000</td>\n",
       "      <td>294.000000</td>\n",
       "      <td>140.875000</td>\n",
       "      <td>3.50000</td>\n",
       "      <td>2.750000</td>\n",
       "      <td>0.100000</td>\n",
       "      <td>1.75000</td>\n",
       "      <td>12.992500</td>\n",
       "      <td>15.620000</td>\n",
       "    </tr>\n",
       "    <tr>\n",
       "      <th>50%</th>\n",
       "      <td>0.750000</td>\n",
       "      <td>673.750000</td>\n",
       "      <td>318.500000</td>\n",
       "      <td>183.750000</td>\n",
       "      <td>5.25000</td>\n",
       "      <td>3.500000</td>\n",
       "      <td>0.250000</td>\n",
       "      <td>3.00000</td>\n",
       "      <td>18.950000</td>\n",
       "      <td>22.080000</td>\n",
       "    </tr>\n",
       "    <tr>\n",
       "      <th>75%</th>\n",
       "      <td>0.830000</td>\n",
       "      <td>741.125000</td>\n",
       "      <td>343.000000</td>\n",
       "      <td>220.500000</td>\n",
       "      <td>7.00000</td>\n",
       "      <td>4.250000</td>\n",
       "      <td>0.400000</td>\n",
       "      <td>4.00000</td>\n",
       "      <td>31.667500</td>\n",
       "      <td>33.132500</td>\n",
       "    </tr>\n",
       "    <tr>\n",
       "      <th>max</th>\n",
       "      <td>0.980000</td>\n",
       "      <td>808.500000</td>\n",
       "      <td>416.500000</td>\n",
       "      <td>220.500000</td>\n",
       "      <td>7.00000</td>\n",
       "      <td>5.000000</td>\n",
       "      <td>0.400000</td>\n",
       "      <td>5.00000</td>\n",
       "      <td>43.100000</td>\n",
       "      <td>48.030000</td>\n",
       "    </tr>\n",
       "  </tbody>\n",
       "</table>\n",
       "</div>"
      ],
      "text/plain": [
       "               X1          X2          X3          X4         X5          X6  \\\n",
       "count  768.000000  768.000000  768.000000  768.000000  768.00000  768.000000   \n",
       "mean     0.764167  671.708333  318.500000  176.604167    5.25000    3.500000   \n",
       "std      0.105777   88.086116   43.626481   45.165950    1.75114    1.118763   \n",
       "min      0.620000  514.500000  245.000000  110.250000    3.50000    2.000000   \n",
       "25%      0.682500  606.375000  294.000000  140.875000    3.50000    2.750000   \n",
       "50%      0.750000  673.750000  318.500000  183.750000    5.25000    3.500000   \n",
       "75%      0.830000  741.125000  343.000000  220.500000    7.00000    4.250000   \n",
       "max      0.980000  808.500000  416.500000  220.500000    7.00000    5.000000   \n",
       "\n",
       "               X7         X8          Y1          Y2  \n",
       "count  768.000000  768.00000  768.000000  768.000000  \n",
       "mean     0.234375    2.81250   22.307201   24.587760  \n",
       "std      0.133221    1.55096   10.090196    9.513306  \n",
       "min      0.000000    0.00000    6.010000   10.900000  \n",
       "25%      0.100000    1.75000   12.992500   15.620000  \n",
       "50%      0.250000    3.00000   18.950000   22.080000  \n",
       "75%      0.400000    4.00000   31.667500   33.132500  \n",
       "max      0.400000    5.00000   43.100000   48.030000  "
      ]
     },
     "execution_count": 21,
     "metadata": {},
     "output_type": "execute_result"
    }
   ],
   "source": [
    "#STATISTICAL SUMMARY - understanding attributes\n",
    "\n",
    "summary = df.describe()\n",
    "summary"
   ]
  },
  {
   "cell_type": "code",
   "execution_count": 36,
   "metadata": {
    "collapsed": false
   },
   "outputs": [
    {
     "data": {
      "text/plain": [
       "<matplotlib.text.Text at 0x221369ce588>"
      ]
     },
     "execution_count": 36,
     "metadata": {},
     "output_type": "execute_result"
    },
    {
     "data": {
      "image/png": "[encoded data removed]",
      "text/plain": [
       "<matplotlib.figure.Figure at 0x221369acf98>"
      ]
     },
     "metadata": {},
     "output_type": "display_data"
    }
   ],
   "source": [
    "#normalization\n",
    "\n",
    "df_normalized = DataFrame.copy(df)\n",
    "df_normalized.drop([\"Y1\", \"Y2\"], axis=1, inplace=True)\n",
    "ncols = len(df_normalized.columns)\n",
    "\n",
    "for i in range(ncols):\n",
    "    mean = summary.iloc[1,i]\n",
    "    std = summary.iloc[2,i]\n",
    "    df_normalized.iloc[:,i:(i + 1)] = (df_normalized.iloc[:,i:(i + 1)]  - mean)/ std\n",
    "\n",
    "array = df_normalized.values\n",
    "plt.boxplot(array)\n",
    "plt.xlabel(\"Attribute Index\")\n",
    "plt.ylabel(\"Quartile Ranges - Normalized\")"
   ]
  },
  {
   "cell_type": "code",
   "execution_count": 37,
   "metadata": {
    "collapsed": false
   },
   "outputs": [
    {
     "data": {
      "text/plain": [
       "<matplotlib.text.Text at 0x2213506a128>"
      ]
     },
     "execution_count": 37,
     "metadata": {},
     "output_type": "execute_result"
    },
    {
     "data": {
      "image/png": "[encoded data removed]",
      "text/plain": [
       "<matplotlib.figure.Figure at 0x221369ac240>"
      ]
     },
     "metadata": {},
     "output_type": "display_data"
    }
   ],
   "source": [
    "#parallel coordinate\n",
    "\n",
    "nDataCols = len(df_normalized.columns) - 1\n",
    "\n",
    "for i in range(len(df_normalized.index)):\n",
    "    dataRow = df_normalized.iloc[i, 1:nDataCols]\n",
    "    normTarget = df_normalized.iloc[1, nDataCols]\n",
    "    labelColor = 1.0 / (1.0 + exp(-normTarget))\n",
    "    dataRow.plot(color=plt.cm.RdYlBu(labelColor), alpha =0.5)\n",
    "    \n",
    "plt.xlabel(\"Attribute Index\")\n",
    "plt.ylabel(\"Quartile Ranges - Normalized\")\n",
    "\n"
   ]
  },
  {
   "cell_type": "code",
   "execution_count": 40,
   "metadata": {
    "collapsed": false
   },
   "outputs": [
    {
     "data": {
      "text/plain": [
       "<matplotlib.collections.PolyCollection at 0x221375ac278>"
      ]
     },
     "execution_count": 40,
     "metadata": {},
     "output_type": "execute_result"
    },
    {
     "data": {
      "image/png": "[encoded data removed]",
      "text/plain": [
       "<matplotlib.figure.Figure at 0x221369a44e0>"
      ]
     },
     "metadata": {},
     "output_type": "display_data"
    }
   ],
   "source": [
    "corMatrix = DataFrame(df.corr())\n",
    "plt.pcolor(corMatrix)"
   ]
  },
  {
   "cell_type": "code",
   "execution_count": 64,
   "metadata": {
    "collapsed": false
   },
   "outputs": [
    {
     "name": "stdout",
     "output_type": "stream",
     "text": [
      "Out of sample error versus attribute set size\n",
      "[6.0381300703972558, 4.9579385464450061, 4.2868079985443979, 4.2786619693728101, 4.3027229470962434, 4.3285018650161549, 4.2669438541171312, 4.2643665359685281]\n",
      "\n",
      "Best attribute indices\n",
      "[4, 6, 0, 7, 5, 3, 2, 1]\n",
      "\n",
      "Best attribute names\n",
      "['X5', 'X7', 'X1', 'X8', 'X6', 'X4', 'X3', 'X2']\n"
     ]
    }
   ],
   "source": [
    "#FORWARD STEPWISE REGRESSION - CONTROLLING OVERFITTING\n",
    "\n",
    "def xattrSelect(x, idxSet):\n",
    "    xOut = []\n",
    "    for row in x:\n",
    "        xOut.append([row[i] for i in idxSet])\n",
    "    return(xOut)\n",
    "\n",
    "yCols = [8,9]\n",
    "\n",
    "X = df.drop([\"Y1\", \"Y2\"], axis=1)\n",
    "X = np.array(X)\n",
    "\n",
    "y = df[[\"Y1\", \"Y2\"]]\n",
    "y = np.array(y)\n",
    "\n",
    "X_train, X_test, y_train, y_test = cross_validation.train_test_split(X,y,test_size=0.1)\n",
    "\n",
    "#getting attribute as a list, one at a time, starting with empty attribute\n",
    "\n",
    "attributeList = []\n",
    "index = range(len(X[1]))\n",
    "indexSet = set(index)\n",
    "indexSeq = []\n",
    "oosError = []\n",
    "\n",
    "for i in index:\n",
    "    attSet = set(attributeList)\n",
    "    attTrySet = indexSet - attSet\n",
    "    attTry = [ii for ii in attTrySet]\n",
    "    errorList = []\n",
    "    attTemp = []\n",
    "    for iTry in attTry:\n",
    "        attTemp = [] + attributeList\n",
    "        attTemp.append(iTry)\n",
    "        xTrainTemp = xattrSelect(X_train, attTemp)\n",
    "        xTestTemp = xattrSelect(X_test, attTemp)\n",
    "        xTrain = np.array(xTrainTemp)\n",
    "        yTrain = np.array(y_train)\n",
    "        xTest = np.array(xTestTemp)\n",
    "        yTest = np.array(y_test)\n",
    "        \n",
    "        clf = linear_model.LinearRegression()\n",
    "        clf.fit(xTrain,yTrain)\n",
    "        \n",
    "        rmsError = np.linalg.norm((yTest-clf.predict(xTest)),2)/sqrt(len(yTest))\n",
    "        errorList.append(rmsError)\n",
    "        attTemp = []\n",
    "    \n",
    "    iBest = np.argmin(errorList)\n",
    "    attributeList.append(attTry[iBest])\n",
    "    oosError.append(errorList[iBest])\n",
    "    \n",
    "print(\"Out of sample error versus attribute set size\" )\n",
    "print(oosError)\n",
    "print(\"\\n\" + \"Best attribute indices\")\n",
    "print(attributeList)\n",
    "\n",
    "names = list(df.columns.values)\n",
    "\n",
    "namesList = [names[i] for i in attributeList]\n",
    "print(\"\\n\" + \"Best attribute names\")\n",
    "print(namesList)    \n",
    "        \n"
   ]
  },
  {
   "cell_type": "code",
   "execution_count": 65,
   "metadata": {
    "collapsed": false
   },
   "outputs": [
    {
     "data": {
      "text/plain": [
       "<matplotlib.text.Text at 0x221391cdd30>"
      ]
     },
     "execution_count": 65,
     "metadata": {},
     "output_type": "execute_result"
    },
    {
     "data": {
      "image/png": "[encoded data removed]",
      "text/plain": [
       "<matplotlib.figure.Figure at 0x221391abd30>"
      ]
     },
     "metadata": {},
     "output_type": "display_data"
    }
   ],
   "source": [
    "#plot error vs number of attributes\n",
    "\n",
    "x = range(len(oosError))\n",
    "plt.plot(x, oosError, 'r')\n",
    "plt.xlabel(\"Number of Attributes\")\n",
    "plt.ylabel(\"Error (RMS)\") #root mean square"
   ]
  },
  {
   "cell_type": "code",
   "execution_count": 69,
   "metadata": {
    "collapsed": false
   },
   "outputs": [
    {
     "data": {
      "text/plain": [
       "<matplotlib.text.Text at 0x221391bf438>"
      ]
     },
     "execution_count": 69,
     "metadata": {},
     "output_type": "execute_result"
    },
    {
     "data": {
      "image/png": "[encoded data removed]",
      "text/plain": [
       "<matplotlib.figure.Figure at 0x2213922ae48>"
      ]
     },
     "metadata": {},
     "output_type": "display_data"
    }
   ],
   "source": [
    "indexBest = oosError.index(min(oosError))\n",
    "attributesBest = attributeList[1:(indexBest + 1)]\n",
    "\n",
    "xTrainTemp = xattrSelect(X_train, attributesBest)\n",
    "xTestTemp = xattrSelect(X_test, attributesBest)\n",
    "xTrain,xTest = np.array(xTrainTemp), np.array(xTestTemp)\n",
    "\n",
    "clf.fit(xTrain, yTrain)\n",
    "errorVector = yTest-clf.predict(xTest)\n",
    "plt.hist(errorVector)\n",
    "plt.xlabel(\"Bin Boundaries\")\n",
    "plt.ylabel(\"Counts\")"
   ]
  },
  {
   "cell_type": "code",
   "execution_count": 80,
   "metadata": {
    "collapsed": false
   },
   "outputs": [
    {
     "data": {
      "text/plain": [
       "<matplotlib.text.Text at 0x221392345c0>"
      ]
     },
     "execution_count": 80,
     "metadata": {},
     "output_type": "execute_result"
    },
    {
     "data": {
      "image/png": "[encoded data removed]",
      "text/plain": [
       "<matplotlib.figure.Figure at 0x221393df6d8>"
      ]
     },
     "metadata": {},
     "output_type": "display_data"
    }
   ],
   "source": [
    "# predicted = clf.predict(xTest)\n",
    "# predicted\n",
    "plt.scatter(clf.predict(xTest)[:,0], yTest[:,0], s=50,c = 'b', alpha=0.8)\n",
    "plt.scatter(clf.predict(xTest)[:,1], yTest[:,1], s=50, c='r', alpha=0.8)\n",
    "plt.xlabel(\"Predicted outcome\")\n",
    "plt.ylabel(\"Actual outcome\")"
   ]
  },
  {
   "cell_type": "code",
   "execution_count": 83,
   "metadata": {
    "collapsed": false
   },
   "outputs": [
    {
     "name": "stdout",
     "output_type": "stream",
     "text": [
      "RMS Error:  5.49884536255 alpha:  1.0\n",
      "RMS Error:  4.97859611662 alpha:  0.1\n",
      "RMS Error:  4.73651607995 alpha:  0.010000000000000002\n",
      "RMS Error:  4.71577200121 alpha:  0.0010000000000000002\n",
      "RMS Error:  4.71396348795 alpha:  0.00010000000000000002\n",
      "RMS Error:  4.71378588081 alpha:  1.0000000000000003e-05\n",
      "RMS Error:  4.7137681532 alpha:  1.0000000000000004e-06\n"
     ]
    },
    {
     "data": {
      "image/png": "[encoded data removed]",
      "text/plain": [
       "<matplotlib.figure.Figure at 0x221391ab128>"
      ]
     },
     "metadata": {},
     "output_type": "display_data"
    }
   ],
   "source": [
    "#RIDGE REGRESSION\n",
    "\n",
    "alphaList =[0.1**i for i in [0,1,2,3,4,5,6]]\n",
    "rmsError = []\n",
    "\n",
    "for a in alphaList:\n",
    "    clf2 = linear_model.Ridge(alpha=a)\n",
    "    clf2.fit(xTrain, yTrain)\n",
    "    rmsError.append(np.linalg.norm((yTest - clf2.predict(xTest)), 2) / sqrt(len(yTest)))\n",
    "    \n",
    "for i in range(len(rmsError)):\n",
    "    print(\"RMS Error: \", rmsError[i], \"alpha: \", alphaList[i])    \n",
    "    \n",
    "x = range(len(rmsError))\n",
    "plt.plot(x, rmsError, 'k')\n",
    "plt.xlabel('-log(alpha)')\n",
    "plt.ylabel('Error (RMS)')\n",
    "\n",
    "    "
   ]
  },
  {
   "cell_type": "code",
   "execution_count": 86,
   "metadata": {
    "collapsed": false
   },
   "outputs": [
    {
     "data": {
      "text/plain": [
       "<matplotlib.text.Text at 0x22139522588>"
      ]
     },
     "execution_count": 86,
     "metadata": {},
     "output_type": "execute_result"
    },
    {
     "data": {
      "image/png": "[encoded data removed]",
      "text/plain": [
       "<matplotlib.figure.Figure at 0x22139457c50>"
      ]
     },
     "metadata": {},
     "output_type": "display_data"
    }
   ],
   "source": [
    "#plot histagram and scatter plot using the best alpha value\n",
    "\n",
    "indexBest = rmsError.index(min(rmsError))\n",
    "alph = alphaList[indexBest]\n",
    "clf3 = linear_model.Ridge(alpha=alph)\n",
    "clf3.fit(xTrain, yTrain)\n",
    "errorVector = yTest - clf3.predict(xTest)\n",
    "plt.hist(errorVector)\n",
    "plt.xlabel(\"Bin Boundaries\")\n",
    "plt.ylabel(\"Counts\")"
   ]
  },
  {
   "cell_type": "code",
   "execution_count": 87,
   "metadata": {
    "collapsed": false
   },
   "outputs": [
    {
     "data": {
      "text/plain": [
       "<matplotlib.text.Text at 0x221395bf7b8>"
      ]
     },
     "execution_count": 87,
     "metadata": {},
     "output_type": "execute_result"
    },
    {
     "data": {
      "image/png": "[encoded data removed]",
      "text/plain": [
       "<matplotlib.figure.Figure at 0x22139538208>"
      ]
     },
     "metadata": {},
     "output_type": "display_data"
    }
   ],
   "source": [
    "plt.scatter(clf3.predict(xTest), yTest, s=30, c=('b','r'), alpha=0.8)\n",
    "plt.xlabel('Predicted Taste Score')\n",
    "plt.ylabel('Actual Taste Score')"
   ]
  },
  {
   "cell_type": "code",
   "execution_count": null,
   "metadata": {
    "collapsed": true
   },
   "outputs": [],
   "source": []
  }
 ],
 "metadata": {
  "kernelspec": {
   "display_name": "Python 3",
   "language": "python",
   "name": "python3"
  },
  "language_info": {
   "codemirror_mode": {
    "name": "ipython",
    "version": 3
   },
   "file_extension": ".py",
   "mimetype": "text/x-python",
   "name": "python",
   "nbconvert_exporter": "python",
   "pygments_lexer": "ipython3",
   "version": "3.5.1"
  }
 },
 "nbformat": 4,
 "nbformat_minor": 0
}
